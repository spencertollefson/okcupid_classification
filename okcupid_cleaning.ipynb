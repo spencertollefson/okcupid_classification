{
 "cells": [
  {
   "cell_type": "code",
   "execution_count": 1,
   "metadata": {},
   "outputs": [],
   "source": [
    "import pandas as pd\n",
    "import numpy as np\n",
    "pd.set_option(\"display.max_columns\",999)"
   ]
  },
  {
   "cell_type": "code",
   "execution_count": 2,
   "metadata": {},
   "outputs": [],
   "source": [
    "def all_values(df):\n",
    "    for i in df.columns:\n",
    "        print(\"\")\n",
    "        print(i,\":\", df[i].value_counts(),\"\\n\")"
   ]
  },
  {
   "cell_type": "markdown",
   "metadata": {},
   "source": [
    "### Ideas\n",
    "* Instead of religion, just do \"seriousness\" of religion\n",
    "* Instead of horoscope sign, just do \"seriousness\" of horoscopes\n",
    "\n",
    "### Simple, basic transformations\n",
    "* **Drop** essays, last_online, drugs, drinks, diet, religion, speaks, location, ethnicity, offspring, sign\n",
    "*"
   ]
  },
  {
   "cell_type": "code",
   "execution_count": 24,
   "metadata": {},
   "outputs": [],
   "source": [
    "cupid = pd.read_csv('okcupid/profiles.csv')"
   ]
  },
  {
   "cell_type": "code",
   "execution_count": 16,
   "metadata": {},
   "outputs": [],
   "source": [
    "cupid = cupid.drop(['essay0', 'essay1', 'essay2', 'essay3', 'essay4', 'essay5', 'essay6', 'essay7', 'essay8', 'essay9',\n",
    "                    'last_online', 'drinks', 'drugs', 'diet', 'religion', 'speaks', 'location', 'ethnicity', 'offspring', 'sign'], axis=1)"
   ]
  },
  {
   "cell_type": "code",
   "execution_count": 17,
   "metadata": {},
   "outputs": [
    {
     "data": {
      "text/plain": [
       "(59946, 11)"
      ]
     },
     "execution_count": 17,
     "metadata": {},
     "output_type": "execute_result"
    }
   ],
   "source": [
    "cupid.shape"
   ]
  },
  {
   "cell_type": "code",
   "execution_count": 18,
   "metadata": {},
   "outputs": [
    {
     "data": {
      "text/plain": [
       "Index(['age', 'body_type', 'education', 'height', 'income', 'job',\n",
       "       'orientation', 'pets', 'sex', 'smokes', 'status'],\n",
       "      dtype='object')"
      ]
     },
     "execution_count": 18,
     "metadata": {},
     "output_type": "execute_result"
    }
   ],
   "source": [
    "cupid.columns"
   ]
  },
  {
   "cell_type": "code",
   "execution_count": 19,
   "metadata": {},
   "outputs": [
    {
     "data": {
      "text/html": [
       "<div>\n",
       "<style scoped>\n",
       "    .dataframe tbody tr th:only-of-type {\n",
       "        vertical-align: middle;\n",
       "    }\n",
       "\n",
       "    .dataframe tbody tr th {\n",
       "        vertical-align: top;\n",
       "    }\n",
       "\n",
       "    .dataframe thead th {\n",
       "        text-align: right;\n",
       "    }\n",
       "</style>\n",
       "<table border=\"1\" class=\"dataframe\">\n",
       "  <thead>\n",
       "    <tr style=\"text-align: right;\">\n",
       "      <th></th>\n",
       "      <th>age</th>\n",
       "      <th>body_type</th>\n",
       "      <th>education</th>\n",
       "      <th>height</th>\n",
       "      <th>income</th>\n",
       "      <th>job</th>\n",
       "      <th>orientation</th>\n",
       "      <th>pets</th>\n",
       "      <th>sex</th>\n",
       "      <th>smokes</th>\n",
       "      <th>status</th>\n",
       "    </tr>\n",
       "  </thead>\n",
       "  <tbody>\n",
       "    <tr>\n",
       "      <th>21171</th>\n",
       "      <td>32</td>\n",
       "      <td>skinny</td>\n",
       "      <td>working on ph.d program</td>\n",
       "      <td>74.0</td>\n",
       "      <td>20000</td>\n",
       "      <td>science / tech / engineering</td>\n",
       "      <td>straight</td>\n",
       "      <td>NaN</td>\n",
       "      <td>m</td>\n",
       "      <td>no</td>\n",
       "      <td>seeing someone</td>\n",
       "    </tr>\n",
       "  </tbody>\n",
       "</table>\n",
       "</div>"
      ],
      "text/plain": [
       "       age body_type                education  height  income  \\\n",
       "21171   32    skinny  working on ph.d program    74.0   20000   \n",
       "\n",
       "                                job orientation pets sex smokes  \\\n",
       "21171  science / tech / engineering    straight  NaN   m     no   \n",
       "\n",
       "               status  \n",
       "21171  seeing someone  "
      ]
     },
     "execution_count": 19,
     "metadata": {},
     "output_type": "execute_result"
    }
   ],
   "source": [
    "cupid.sample()"
   ]
  },
  {
   "cell_type": "code",
   "execution_count": 25,
   "metadata": {},
   "outputs": [
    {
     "name": "stdout",
     "output_type": "stream",
     "text": [
      "age :  54\n",
      "body_type :  13\n",
      "diet :  19\n",
      "drinks :  7\n",
      "drugs :  4\n",
      "education :  33\n",
      "essay0 :  54351\n",
      "essay1 :  51517\n",
      "essay2 :  48636\n",
      "essay3 :  43534\n",
      "essay4 :  49261\n",
      "essay5 :  48964\n",
      "essay6 :  43604\n",
      "essay7 :  45555\n",
      "essay8 :  39325\n",
      "essay9 :  45444\n",
      "ethnicity :  218\n",
      "height :  61\n",
      "income :  13\n",
      "job :  22\n",
      "last_online :  30123\n",
      "location :  199\n",
      "offspring :  16\n",
      "orientation :  3\n",
      "pets :  16\n",
      "religion :  46\n",
      "sex :  2\n",
      "sign :  49\n",
      "smokes :  6\n",
      "speaks :  7648\n",
      "status :  5\n"
     ]
    }
   ],
   "source": [
    "for i in cupid.columns:\n",
    "    print(i,\": \",len(cupid[i].unique()))"
   ]
  },
  {
   "cell_type": "code",
   "execution_count": 26,
   "metadata": {},
   "outputs": [
    {
     "data": {
      "text/plain": [
       "age                0\n",
       "body_type       5296\n",
       "diet           24395\n",
       "drinks          2985\n",
       "drugs          14080\n",
       "education       6628\n",
       "essay0          5488\n",
       "essay1          7572\n",
       "essay2          9638\n",
       "essay3         11476\n",
       "essay4         10537\n",
       "essay5         10850\n",
       "essay6         13771\n",
       "essay7         12451\n",
       "essay8         19225\n",
       "essay9         12603\n",
       "ethnicity       5680\n",
       "height             3\n",
       "income             0\n",
       "job             8198\n",
       "last_online        0\n",
       "location           0\n",
       "offspring      35561\n",
       "orientation        0\n",
       "pets           19921\n",
       "religion       20226\n",
       "sex                0\n",
       "sign           11056\n",
       "smokes          5512\n",
       "speaks            50\n",
       "status             0\n",
       "dtype: int64"
      ]
     },
     "execution_count": 26,
     "metadata": {},
     "output_type": "execute_result"
    }
   ],
   "source": [
    "cupid.isna().sum()"
   ]
  },
  {
   "cell_type": "code",
   "execution_count": 29,
   "metadata": {},
   "outputs": [
    {
     "name": "stdout",
     "output_type": "stream",
     "text": [
      "last_online: ['2012-06-28-20-30' '2012-06-29-21-41' '2012-06-27-09-10' ...\n",
      " '2012-06-02-08-16' '2012-02-17-20-44' '2012-06-14-16-51']\n"
     ]
    }
   ],
   "source": [
    "# print('smokes:',cupid.smokes.unique())\n",
    "# print('drinks:',cupid.drinks.unique())\n",
    "# print('drugs:',cupid.drugs.unique())\n",
    "print('last_online:',cupid.last_online.unique())"
   ]
  },
  {
   "cell_type": "code",
   "execution_count": 35,
   "metadata": {},
   "outputs": [
    {
     "data": {
      "text/plain": [
       "no                43896\n",
       "sometimes          3787\n",
       "when drinking      3040\n",
       "yes                2231\n",
       "trying to quit     1480\n",
       "Name: smokes, dtype: int64"
      ]
     },
     "execution_count": 35,
     "metadata": {},
     "output_type": "execute_result"
    }
   ],
   "source": [
    "cupid.smokes.value_counts()"
   ]
  },
  {
   "cell_type": "code",
   "execution_count": 104,
   "metadata": {},
   "outputs": [
    {
     "data": {
      "text/plain": [
       "white                                                                                                      32831\n",
       "asian                                                                                                       6134\n",
       "hispanic / latin                                                                                            2823\n",
       "black                                                                                                       2008\n",
       "other                                                                                                       1706\n",
       "hispanic / latin, white                                                                                     1301\n",
       "indian                                                                                                      1077\n",
       "asian, white                                                                                                 811\n",
       "white, other                                                                                                 641\n",
       "pacific islander                                                                                             432\n",
       "asian, pacific islander                                                                                      395\n",
       "native american, white                                                                                       338\n",
       "middle eastern                                                                                               329\n",
       "middle eastern, white                                                                                        300\n",
       "black, white                                                                                                 298\n",
       "pacific islander, white                                                                                      156\n",
       "hispanic / latin, other                                                                                      138\n",
       "black, other                                                                                                 133\n",
       "black, hispanic / latin                                                                                      119\n",
       "hispanic / latin, white, other                                                                               117\n",
       "black, native american, white                                                                                110\n",
       "black, native american                                                                                       100\n",
       "asian, other                                                                                                  95\n",
       "asian, hispanic / latin                                                                                       88\n",
       "native american, hispanic / latin, white                                                                      87\n",
       "native american, hispanic / latin                                                                             73\n",
       "asian, white, other                                                                                           69\n",
       "native american                                                                                               67\n",
       "asian, middle eastern, black, native american, indian, pacific islander, hispanic / latin, white, other       66\n",
       "asian, black                                                                                                  59\n",
       "                                                                                                           ...  \n",
       "black, native american, indian, white                                                                          1\n",
       "asian, indian, hispanic / latin, white                                                                         1\n",
       "asian, black, native american, indian, pacific islander, hispanic / latin                                      1\n",
       "asian, black, pacific islander, hispanic / latin, white                                                        1\n",
       "asian, middle eastern, native american, pacific islander, hispanic / latin, white, other                       1\n",
       "asian, middle eastern, hispanic / latin, white, other                                                          1\n",
       "asian, black, native american, pacific islander, white, other                                                  1\n",
       "asian, black, indian, hispanic / latin, other                                                                  1\n",
       "black, native american, indian, pacific islander, hispanic / latin                                             1\n",
       "asian, black, native american, indian                                                                          1\n",
       "middle eastern, black, hispanic / latin                                                                        1\n",
       "asian, middle eastern, other                                                                                   1\n",
       "asian, middle eastern, black, native american, hispanic / latin, white                                         1\n",
       "black, native american, indian, pacific islander                                                               1\n",
       "black, native american, pacific islander, white, other                                                         1\n",
       "middle eastern, native american, white, other                                                                  1\n",
       "middle eastern, black, native american, white, other                                                           1\n",
       "asian, black, pacific islander, other                                                                          1\n",
       "black, native american, pacific islander, hispanic / latin                                                     1\n",
       "middle eastern, black, native american, hispanic / latin, white                                                1\n",
       "middle eastern, indian, white                                                                                  1\n",
       "asian, middle eastern, black, pacific islander                                                                 1\n",
       "middle eastern, black, other                                                                                   1\n",
       "asian, middle eastern, native american, pacific islander, white, other                                         1\n",
       "middle eastern, black, native american, indian                                                                 1\n",
       "asian, native american, indian, pacific islander, hispanic / latin, white, other                               1\n",
       "middle eastern, pacific islander, hispanic / latin                                                             1\n",
       "asian, native american, hispanic / latin, other                                                                1\n",
       "asian, middle eastern, black, native american, indian, pacific islander, white                                 1\n",
       "native american, indian, pacific islander, hispanic / latin                                                    1\n",
       "Name: ethnicity, Length: 217, dtype: int64"
      ]
     },
     "execution_count": 104,
     "metadata": {},
     "output_type": "execute_result"
    }
   ],
   "source": [
    "cupid.ethnicity.value_counts()"
   ]
  },
  {
   "cell_type": "code",
   "execution_count": 71,
   "metadata": {},
   "outputs": [
    {
     "data": {
      "text/plain": [
       "(7127, 20)"
      ]
     },
     "execution_count": 71,
     "metadata": {},
     "output_type": "execute_result"
    }
   ],
   "source": [
    "cupid.dropna().shape"
   ]
  },
  {
   "cell_type": "code",
   "execution_count": 73,
   "metadata": {},
   "outputs": [
    {
     "data": {
      "text/plain": [
       "no                5737\n",
       "sometimes          474\n",
       "when drinking      378\n",
       "yes                305\n",
       "trying to quit     233\n",
       "Name: smokes, dtype: int64"
      ]
     },
     "execution_count": 73,
     "metadata": {},
     "output_type": "execute_result"
    }
   ],
   "source": [
    "cupid.dropna().smokes.value_counts()"
   ]
  },
  {
   "cell_type": "code",
   "execution_count": null,
   "metadata": {},
   "outputs": [],
   "source": []
  },
  {
   "cell_type": "code",
   "execution_count": 33,
   "metadata": {},
   "outputs": [
    {
     "name": "stdout",
     "output_type": "stream",
     "text": [
      "age :  54\n",
      "body_type :  13\n",
      "diet :  19\n",
      "drinks :  7\n",
      "drugs :  4\n",
      "education :  33\n",
      "ethnicity :  218\n",
      "height :  61\n",
      "income :  13\n",
      "job :  22\n",
      "last_online :  30123\n",
      "location :  199\n",
      "offspring :  16\n",
      "orientation :  3\n",
      "pets :  16\n",
      "religion :  46\n",
      "sex :  2\n",
      "sign :  49\n",
      "smokes :  6\n",
      "speaks :  7648\n",
      "status :  5\n"
     ]
    }
   ],
   "source": [
    "for i in cupid.columns:\n",
    "    print(i,\": \",len(cupid[i].unique()))"
   ]
  },
  {
   "cell_type": "code",
   "execution_count": 103,
   "metadata": {},
   "outputs": [
    {
     "data": {
      "text/plain": [
       "english                                                                                        21828\n",
       "english (fluently)                                                                              6628\n",
       "english (fluently), spanish (poorly)                                                            2059\n",
       "english (fluently), spanish (okay)                                                              1917\n",
       "english (fluently), spanish (fluently)                                                          1288\n",
       "english, spanish                                                                                 859\n",
       "english (fluently), french (poorly)                                                              756\n",
       "english, spanish (okay)                                                                          655\n",
       "english, spanish (poorly)                                                                        609\n",
       "english (fluently), chinese (fluently)                                                           535\n",
       "english (fluently), french (okay)                                                                532\n",
       "english (fluently), chinese (okay)                                                               430\n",
       "english (poorly)                                                                                 310\n",
       "english, chinese                                                                                 306\n",
       "english (okay)                                                                                   306\n",
       "english (fluently), german (poorly)                                                              263\n",
       "english, french (poorly)                                                                         245\n",
       "english (fluently), french (fluently)                                                            215\n",
       "english, french (okay)                                                                           210\n",
       "english, french                                                                                  209\n",
       "english, spanish (fluently)                                                                      198\n",
       "english (fluently), japanese (poorly)                                                            184\n",
       "english (fluently), chinese (poorly)                                                             175\n",
       "english (fluently), german (okay)                                                                160\n",
       "english (fluently), russian (fluently)                                                           147\n",
       "english (fluently), spanish (fluently), french (poorly)                                          143\n",
       "english (fluently), spanish (okay), french (poorly)                                              143\n",
       "english (fluently), french (okay), spanish (poorly)                                              133\n",
       "english (fluently), french (poorly), spanish (poorly)                                            130\n",
       "english (fluently), italian (poorly)                                                             115\n",
       "                                                                                               ...  \n",
       "english (fluently), spanish (okay), chinese (poorly), c++ (poorly)                                 1\n",
       "english, italian (fluently), spanish (okay), swedish (poorly)                                      1\n",
       "english, vietnamese, chinese                                                                       1\n",
       "english (fluently), c++ (poorly), german (fluently), khmer (fluently), mongolian (fluently)        1\n",
       "english (fluently), sign language (okay), yiddish (okay)                                           1\n",
       "english, french, italian (okay), arabic (poorly)                                                   1\n",
       "english, french, italian, german                                                                   1\n",
       "english (okay), spanish (okay), yiddish (poorly)                                                   1\n",
       "english (fluently), russian (poorly), spanish (poorly), c++ (fluently)                             1\n",
       "english (fluently), esperanto (poorly), spanish (poorly), portuguese (poorly)                      1\n",
       "english, spanish (poorly), lisp (okay), c++ (fluently)                                             1\n",
       "english (fluently), c++ (fluently), lisp (poorly), other (fluently)                                1\n",
       "english (fluently), other (fluently), other (fluently)                                             1\n",
       "english, spanish (okay), korean (okay), french (poorly), japanese (okay)                           1\n",
       "english (fluently), russian (fluently), c++ (okay)                                                 1\n",
       "english (okay), arabic (okay), french (okay), lisp (fluently), swedish (okay)                      1\n",
       "english (fluently), greek (fluently), german (poorly)                                              1\n",
       "english (fluently), spanish (fluently), italian (poorly), catalan (okay)                           1\n",
       "english (fluently), german (fluently), polish (okay)                                               1\n",
       "english, french (fluently), tagalog (fluently), italian (okay), spanish (okay)                     1\n",
       "english, portuguese, chinese (poorly), spanish (okay)                                              1\n",
       "english (fluently), other (poorly), rotuman                                                        1\n",
       "english, japanese (fluently), french (poorly)                                                      1\n",
       "english, afrikaans (poorly), french (poorly), hebrew (fluently), spanish (okay)                    1\n",
       "english, chinese (poorly), spanish (fluently)                                                      1\n",
       "english (fluently), chinese (fluently), spanish (poorly), korean (poorly)                          1\n",
       "english (fluently), sign language (poorly), c++ (okay), irish (okay)                               1\n",
       "english (fluently), spanish (poorly), yiddish (okay), khmer (okay), sanskrit (poorly)              1\n",
       "english (fluently), french (fluently), german (poorly), c++ (okay)                                 1\n",
       "english (fluently), french (poorly), german (okay), italian (poorly)                               1\n",
       "Name: speaks, Length: 7647, dtype: int64"
      ]
     },
     "execution_count": 103,
     "metadata": {},
     "output_type": "execute_result"
    }
   ],
   "source": [
    "cupid.speaks.value_counts()"
   ]
  },
  {
   "cell_type": "code",
   "execution_count": null,
   "metadata": {},
   "outputs": [],
   "source": []
  },
  {
   "cell_type": "code",
   "execution_count": null,
   "metadata": {},
   "outputs": [],
   "source": []
  }
 ],
 "metadata": {
  "kernelspec": {
   "display_name": "Python 3",
   "language": "python",
   "name": "python3"
  },
  "language_info": {
   "codemirror_mode": {
    "name": "ipython",
    "version": 3
   },
   "file_extension": ".py",
   "mimetype": "text/x-python",
   "name": "python",
   "nbconvert_exporter": "python",
   "pygments_lexer": "ipython3",
   "version": "3.6.6"
  }
 },
 "nbformat": 4,
 "nbformat_minor": 2
}
